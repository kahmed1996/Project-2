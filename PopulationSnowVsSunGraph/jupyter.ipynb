{
 "cells": [
  {
   "cell_type": "code",
   "execution_count": 83,
   "metadata": {},
   "outputs": [],
   "source": [
    "#Importing dependancies. In four Jupyter boxes for reasons\n",
    "%matplotlib inline\n",
    "from matplotlib import style\n",
    "style.use('fivethirtyeight')\n",
    "import matplotlib.pyplot as plt\n",
    "import datetime as dt\n",
    "import pandas as pd"
   ]
  },
  {
   "cell_type": "code",
   "execution_count": 84,
   "metadata": {},
   "outputs": [],
   "source": [
    "# Python SQL toolkit and Object Relational Mapper\n",
    "import sqlalchemy\n",
    "from sqlalchemy.ext.automap import automap_base\n",
    "from sqlalchemy.orm import Session\n",
    "from sqlalchemy import create_engine, func, inspect"
   ]
  },
  {
   "cell_type": "code",
   "execution_count": 85,
   "metadata": {},
   "outputs": [
    {
     "data": {
      "text/plain": [
       "Engine(sqlite:///citypop.db)"
      ]
     },
     "execution_count": 85,
     "metadata": {},
     "output_type": "execute_result"
    }
   ],
   "source": [
    "#Starting the data magic. This takes five boxes\n",
    "engine = create_engine(\"sqlite:///citypop.db\")\n",
    "engine"
   ]
  },
  {
   "cell_type": "code",
   "execution_count": 86,
   "metadata": {},
   "outputs": [
    {
     "data": {
      "text/plain": [
       "['onlytable', 'onlytable2']"
      ]
     },
     "execution_count": 86,
     "metadata": {},
     "output_type": "execute_result"
    }
   ],
   "source": [
    "# reflect an existing database into a new model\n",
    "Base = automap_base()\n",
    "# reflect the tables\n",
    "Base.prepare(engine, reflect=True)\n",
    "# We can view all of the classes that automap found\n",
    "Base.classes.keys()"
   ]
  },
  {
   "cell_type": "code",
   "execution_count": 87,
   "metadata": {},
   "outputs": [],
   "source": [
    "# Save references to each table\n",
    "onlytable=Base.classes.onlytable2"
   ]
  },
  {
   "cell_type": "code",
   "execution_count": 88,
   "metadata": {},
   "outputs": [],
   "source": [
    "session = Session(engine)\n",
    "inspector=inspect(engine)"
   ]
  },
  {
   "cell_type": "code",
   "execution_count": 98,
   "metadata": {},
   "outputs": [
    {
     "name": "stdout",
     "output_type": "stream",
     "text": [
      "         date Anchorage  Chicago Fort Wayne Louisville  Detroit Minneapolis  \\\n",
      "0  1950-01-01     11254  3620962     133607     369129  1849568      521718   \n",
      "1  1960-01-01     44237  3550404     161776     390639  1670144      482872   \n",
      "2  1970-01-01     48081  3369357     178269     361706  1514063      434400   \n",
      "3  1980-01-01    174431  3005072     172391     298694  1203368      370951   \n",
      "4  1990-01-01    226338  2783726     173072     269063  1027974      368383   \n",
      "5  2000-01-01    260283  2896016     205727     256231   951270      382618   \n",
      "6  2010-01-01    291826  2695598     253691     597337   713777      382578   \n",
      "\n",
      "  New York City Cleveland      SNOW  ... Los Angeles San Diego   Miami  \\\n",
      "0       7891957    914808  15313003  ...     1970358    334387  249276   \n",
      "1       7781984    876050  14958106  ...     2479015    573224  291688   \n",
      "2       7895563    750879  14552318  ...     2811801    697027  334859   \n",
      "3       7071639    573822  12870368  ...     2968579    875538  346681   \n",
      "4       7322564    505616  12676736  ...     3485398   1110549  358548   \n",
      "5       8008278    478403  13438826  ...     3694820   1223400  362470   \n",
      "6       8175133    396815  13506755  ...     3792621   1307402  399457   \n",
      "\n",
      "  Atlanta Honolulu Nashville Corpus Christi  Houston Las Vegas    NOSNOW  \n",
      "0  331314   248034    174307         108287   596163    24,624   4143568  \n",
      "1  487455   294194    170874         167690   938219    64,405   5905934  \n",
      "2  495039   324871    448003         204525  1233535   125,787   7259750  \n",
      "3  425022   365048    455651         232134  1595138   164,674   8218169  \n",
      "4  394017   365272    488374         257453  1630553   258,295   9331862  \n",
      "5  416474   371657    545524         277454  1953631   478,434  10644909  \n",
      "6  420003   387170    601222         305215  2099451   583,756  11341929  \n",
      "\n",
      "[7 rows x 21 columns]\n"
     ]
    },
    {
     "data": {
      "text/html": [
       "<div>\n",
       "<style scoped>\n",
       "    .dataframe tbody tr th:only-of-type {\n",
       "        vertical-align: middle;\n",
       "    }\n",
       "\n",
       "    .dataframe tbody tr th {\n",
       "        vertical-align: top;\n",
       "    }\n",
       "\n",
       "    .dataframe thead th {\n",
       "        text-align: right;\n",
       "    }\n",
       "</style>\n",
       "<table border=\"1\" class=\"dataframe\">\n",
       "  <thead>\n",
       "    <tr style=\"text-align: right;\">\n",
       "      <th></th>\n",
       "      <th>date</th>\n",
       "      <th>SNOW</th>\n",
       "      <th>NOSNOW</th>\n",
       "    </tr>\n",
       "  </thead>\n",
       "  <tbody>\n",
       "    <tr>\n",
       "      <th>0</th>\n",
       "      <td>1950-01-01</td>\n",
       "      <td>15313003</td>\n",
       "      <td>4143568</td>\n",
       "    </tr>\n",
       "    <tr>\n",
       "      <th>1</th>\n",
       "      <td>1960-01-01</td>\n",
       "      <td>14958106</td>\n",
       "      <td>5905934</td>\n",
       "    </tr>\n",
       "    <tr>\n",
       "      <th>2</th>\n",
       "      <td>1970-01-01</td>\n",
       "      <td>14552318</td>\n",
       "      <td>7259750</td>\n",
       "    </tr>\n",
       "    <tr>\n",
       "      <th>3</th>\n",
       "      <td>1980-01-01</td>\n",
       "      <td>12870368</td>\n",
       "      <td>8218169</td>\n",
       "    </tr>\n",
       "    <tr>\n",
       "      <th>4</th>\n",
       "      <td>1990-01-01</td>\n",
       "      <td>12676736</td>\n",
       "      <td>9331862</td>\n",
       "    </tr>\n",
       "  </tbody>\n",
       "</table>\n",
       "</div>"
      ],
      "text/plain": [
       "         date      SNOW   NOSNOW\n",
       "0  1950-01-01  15313003  4143568\n",
       "1  1960-01-01  14958106  5905934\n",
       "2  1970-01-01  14552318  7259750\n",
       "3  1980-01-01  12870368  8218169\n",
       "4  1990-01-01  12676736  9331862"
      ]
     },
     "execution_count": 98,
     "metadata": {},
     "output_type": "execute_result"
    }
   ],
   "source": [
    "dataframe = pd.read_sql_query(\"SELECT * FROM onlytable2\", engine)\n",
    "print(dataframe)\n",
    "\n",
    "dataframe_PD=pd.DataFrame.from_records(dataframe,columns=['date', 'SNOW', 'NOSNOW'])\n",
    "dataframe_PD.set_index([\"date\"])\n",
    "dataframe_PD.head()"
   ]
  },
  {
   "cell_type": "code",
   "execution_count": 108,
   "metadata": {},
   "outputs": [
    {
     "data": {
      "text/html": [
       "<div>\n",
       "<style scoped>\n",
       "    .dataframe tbody tr th:only-of-type {\n",
       "        vertical-align: middle;\n",
       "    }\n",
       "\n",
       "    .dataframe tbody tr th {\n",
       "        vertical-align: top;\n",
       "    }\n",
       "\n",
       "    .dataframe thead th {\n",
       "        text-align: right;\n",
       "    }\n",
       "</style>\n",
       "<table border=\"1\" class=\"dataframe\">\n",
       "  <thead>\n",
       "    <tr style=\"text-align: right;\">\n",
       "      <th></th>\n",
       "      <th>date</th>\n",
       "      <th>SNOW</th>\n",
       "      <th>NOSNOW</th>\n",
       "    </tr>\n",
       "  </thead>\n",
       "  <tbody>\n",
       "    <tr>\n",
       "      <th>0</th>\n",
       "      <td>1950-01-01</td>\n",
       "      <td>15313003</td>\n",
       "      <td>4143568</td>\n",
       "    </tr>\n",
       "    <tr>\n",
       "      <th>1</th>\n",
       "      <td>1960-01-01</td>\n",
       "      <td>14958106</td>\n",
       "      <td>5905934</td>\n",
       "    </tr>\n",
       "    <tr>\n",
       "      <th>2</th>\n",
       "      <td>1970-01-01</td>\n",
       "      <td>14552318</td>\n",
       "      <td>7259750</td>\n",
       "    </tr>\n",
       "    <tr>\n",
       "      <th>3</th>\n",
       "      <td>1980-01-01</td>\n",
       "      <td>12870368</td>\n",
       "      <td>8218169</td>\n",
       "    </tr>\n",
       "    <tr>\n",
       "      <th>4</th>\n",
       "      <td>1990-01-01</td>\n",
       "      <td>12676736</td>\n",
       "      <td>9331862</td>\n",
       "    </tr>\n",
       "  </tbody>\n",
       "</table>\n",
       "</div>"
      ],
      "text/plain": [
       "         date      SNOW   NOSNOW\n",
       "0  1950-01-01  15313003  4143568\n",
       "1  1960-01-01  14958106  5905934\n",
       "2  1970-01-01  14552318  7259750\n",
       "3  1980-01-01  12870368  8218169\n",
       "4  1990-01-01  12676736  9331862"
      ]
     },
     "execution_count": 108,
     "metadata": {},
     "output_type": "execute_result"
    }
   ],
   "source": [
    "dataframe_PD['SNOW']=pd.to_numeric(dataframe_PD['SNOW'])\n",
    "dataframe_PD['NOSNOW']=pd.to_numeric(dataframe_PD['NOSNOW'])\n",
    "dataframe_PD.head()"
   ]
  },
  {
   "cell_type": "code",
   "execution_count": 110,
   "metadata": {
    "scrolled": true
   },
   "outputs": [
    {
     "data": {
      "image/png": "[encoded data removed]",
      "text/plain": [
       "<Figure size 432x288 with 1 Axes>"
      ]
     },
     "metadata": {},
     "output_type": "display_data"
    },
    {
     "data": {
      "image/png": "[encoded data removed]",
      "text/plain": [
       "<Figure size 432x288 with 1 Axes>"
      ]
     },
     "metadata": {},
     "output_type": "display_data"
    }
   ],
   "source": [
    "lines=dataframe_PD.plot.line(x='date',y='SNOW')\n",
    "lines=dataframe_PD.plot.line(x='date',y='NOSNOW')\n",
    "plt.savefig('precipitationplot.png')\n",
    "plt.show()"
   ]
  },
  {
   "cell_type": "code",
   "execution_count": null,
   "metadata": {},
   "outputs": [],
   "source": []
  }
 ],
 "metadata": {
  "kernelspec": {
   "display_name": "Python 3",
   "language": "python",
   "name": "python3"
  },
  "language_info": {
   "codemirror_mode": {
    "name": "ipython",
    "version": 3
   },
   "file_extension": ".py",
   "mimetype": "text/x-python",
   "name": "python",
   "nbconvert_exporter": "python",
   "pygments_lexer": "ipython3",
   "version": "3.7.3"
  }
 },
 "nbformat": 4,
 "nbformat_minor": 2
}
